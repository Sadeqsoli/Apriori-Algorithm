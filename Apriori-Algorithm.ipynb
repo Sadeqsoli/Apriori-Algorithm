{
 "cells": [
  {
   "cell_type": "code",
   "execution_count": 1,
   "id": "cfbbae24-86dd-4483-a9b5-251b375f8a7e",
   "metadata": {},
   "outputs": [],
   "source": [
    "import pandas as pd\n",
    "from itertools import combinations"
   ]
  },
  {
   "cell_type": "code",
   "execution_count": 2,
   "id": "917bfebe-57eb-42d1-8869-ac0a3dc88985",
   "metadata": {},
   "outputs": [],
   "source": [
    "MIN_SUP = 2\n",
    "\n",
    "C = {}\n",
    "L = {}"
   ]
  },
  {
   "cell_type": "code",
   "execution_count": 13,
   "id": "7aff6e1e-f2ae-4e4c-b2a9-fa40d1b3f9b9",
   "metadata": {},
   "outputs": [],
   "source": [
    "def read_input(file_path='input.txt'):\n",
    "    with open(file_path, 'r') as file:\n",
    "        transactions = []\n",
    "        for line in file:\n",
    "            transaction = list(map(int, line.strip().split()))\n",
    "            transaction = [item for item in transaction if item != -1]\n",
    "            if transaction:\n",
    "                transactions.append(transaction)\n",
    "    return transactions"
   ]
  },
  {
   "cell_type": "code",
   "execution_count": 4,
   "id": "9e0402a5-6a5c-404c-a092-ac4e374d016b",
   "metadata": {},
   "outputs": [],
   "source": [
    "def C1(transactions):\n",
    "    global C\n",
    "    C.clear()\n",
    "    for transaction in transactions:\n",
    "        for item in transaction:\n",
    "            itemset = frozenset([item])\n",
    "            if itemset in C:\n",
    "                C[itemset] += 1\n",
    "            else:\n",
    "                C[itemset] = 1"
   ]
  },
  {
   "cell_type": "code",
   "execution_count": 5,
   "id": "19b88fb5-83e4-4d6a-9ba1-33b28176683d",
   "metadata": {},
   "outputs": [],
   "source": [
    "def L1():\n",
    "    global L\n",
    "    L.clear()\n",
    "    for itemset, count in C.items():\n",
    "        if count >= MIN_SUP:\n",
    "            L[itemset] = count"
   ]
  },
  {
   "cell_type": "code",
   "execution_count": 6,
   "id": "57c9e644-22bc-47cb-804f-280d52a5fd01",
   "metadata": {},
   "outputs": [],
   "source": [
    "def generate_C():\n",
    "    global C\n",
    "    C.clear()\n",
    "    items = list(L.keys())\n",
    "    for i in range(len(items)):\n",
    "        for j in range(i + 1, len(items)):\n",
    "            itemset1 = list(items[i])\n",
    "            itemset2 = list(items[j])\n",
    "            if itemset1[:-1] == itemset2[:-1]:\n",
    "                new_itemset = frozenset(itemset1 + [itemset2[-1]])\n",
    "                if new_itemset not in C:\n",
    "                    C[new_itemset] = 0"
   ]
  },
  {
   "cell_type": "code",
   "execution_count": 7,
   "id": "e47b165c-0157-4732-86fa-8f3343164f06",
   "metadata": {},
   "outputs": [],
   "source": [
    "def prune():\n",
    "    global C\n",
    "    keys_to_remove = []\n",
    "    for itemset in C.keys():\n",
    "        subsets = combinations(itemset, len(itemset) - 1)\n",
    "        for subset in subsets:\n",
    "            if frozenset(subset) not in L:\n",
    "                keys_to_remove.append(itemset)\n",
    "                break\n",
    "    for key in keys_to_remove:\n",
    "        del C[key]"
   ]
  },
  {
   "cell_type": "code",
   "execution_count": 8,
   "id": "8c040555-9966-47b0-9ffa-dc7155cbe7bd",
   "metadata": {},
   "outputs": [],
   "source": [
    "def scan_D(transactions):\n",
    "    global C\n",
    "    for transaction in transactions:\n",
    "        transaction = frozenset(transaction)\n",
    "        for itemset in C.keys():\n",
    "            if itemset.issubset(transaction):\n",
    "                C[itemset] += 1"
   ]
  },
  {
   "cell_type": "code",
   "execution_count": 9,
   "id": "7647ba84-0fcf-434a-a498-657925e15356",
   "metadata": {},
   "outputs": [],
   "source": [
    "def generate_L():\n",
    "    global L\n",
    "    L.clear()\n",
    "    for itemset, count in C.items():\n",
    "        if count >= MIN_SUP:\n",
    "            L[itemset] = count"
   ]
  },
  {
   "cell_type": "code",
   "execution_count": 10,
   "id": "e0216bcb-b207-4ffc-b44d-f15638152149",
   "metadata": {},
   "outputs": [],
   "source": [
    "def output(d):\n",
    "    for itemset, count in d.items():\n",
    "        print(f\"{set(itemset)} ---(frequency)----->> {count}\")"
   ]
  },
  {
   "cell_type": "code",
   "execution_count": 14,
   "id": "bbd3fb7a-3057-4b00-81cc-144e2939818b",
   "metadata": {},
   "outputs": [
    {
     "name": "stdout",
     "output_type": "stream",
     "text": [
      "C1\n",
      "{1} ---(frequency)----->> 6\n",
      "{2} ---(frequency)----->> 7\n",
      "{5} ---(frequency)----->> 2\n",
      "{4} ---(frequency)----->> 2\n",
      "{3} ---(frequency)----->> 6\n",
      "L1\n",
      "{1} ---(frequency)----->> 6\n",
      "{2} ---(frequency)----->> 7\n",
      "{5} ---(frequency)----->> 2\n",
      "{4} ---(frequency)----->> 2\n",
      "{3} ---(frequency)----->> 6\n",
      "\n",
      "C2\n",
      "{1, 2} ---(frequency)----->> 0\n",
      "{1, 5} ---(frequency)----->> 0\n",
      "{1, 4} ---(frequency)----->> 0\n",
      "{1, 3} ---(frequency)----->> 0\n",
      "{2, 5} ---(frequency)----->> 0\n",
      "{2, 4} ---(frequency)----->> 0\n",
      "{2, 3} ---(frequency)----->> 0\n",
      "{4, 5} ---(frequency)----->> 0\n",
      "{3, 5} ---(frequency)----->> 0\n",
      "{3, 4} ---(frequency)----->> 0\n",
      "\n",
      "C2 after prune\n",
      "{1, 2} ---(frequency)----->> 0\n",
      "{1, 5} ---(frequency)----->> 0\n",
      "{1, 4} ---(frequency)----->> 0\n",
      "{1, 3} ---(frequency)----->> 0\n",
      "{2, 5} ---(frequency)----->> 0\n",
      "{2, 4} ---(frequency)----->> 0\n",
      "{2, 3} ---(frequency)----->> 0\n",
      "{4, 5} ---(frequency)----->> 0\n",
      "{3, 5} ---(frequency)----->> 0\n",
      "{3, 4} ---(frequency)----->> 0\n",
      "\n",
      "C2 after scanning dataset\n",
      "{1, 2} ---(frequency)----->> 4\n",
      "{1, 5} ---(frequency)----->> 2\n",
      "{1, 4} ---(frequency)----->> 1\n",
      "{1, 3} ---(frequency)----->> 4\n",
      "{2, 5} ---(frequency)----->> 2\n",
      "{2, 4} ---(frequency)----->> 2\n",
      "{2, 3} ---(frequency)----->> 4\n",
      "{4, 5} ---(frequency)----->> 0\n",
      "{3, 5} ---(frequency)----->> 1\n",
      "{3, 4} ---(frequency)----->> 0\n",
      "\n",
      "L2\n",
      "{1, 2} ---(frequency)----->> 4\n",
      "{1, 5} ---(frequency)----->> 2\n",
      "{1, 3} ---(frequency)----->> 4\n",
      "{2, 5} ---(frequency)----->> 2\n",
      "{2, 4} ---(frequency)----->> 2\n",
      "{2, 3} ---(frequency)----->> 4\n",
      "\n",
      "C3\n",
      "{1, 2, 5} ---(frequency)----->> 0\n",
      "{1, 2, 3} ---(frequency)----->> 0\n",
      "{1, 3, 5} ---(frequency)----->> 0\n",
      "{2, 4, 5} ---(frequency)----->> 0\n",
      "{2, 3, 5} ---(frequency)----->> 0\n",
      "{2, 3, 4} ---(frequency)----->> 0\n",
      "\n",
      "C3 after prune\n",
      "{1, 2, 5} ---(frequency)----->> 0\n",
      "{1, 2, 3} ---(frequency)----->> 0\n",
      "\n",
      "C3 after scanning dataset\n",
      "{1, 2, 5} ---(frequency)----->> 2\n",
      "{1, 2, 3} ---(frequency)----->> 2\n",
      "\n",
      "L3\n",
      "{1, 2, 5} ---(frequency)----->> 2\n",
      "{1, 2, 3} ---(frequency)----->> 2\n",
      "\n",
      "C4\n",
      "{1, 2, 3, 5} ---(frequency)----->> 0\n"
     ]
    }
   ],
   "source": [
    "def main():\n",
    "    global C, L\n",
    "    transactions = read_input()\n",
    "    index = 2\n",
    "    first_pass = True\n",
    "    while True:\n",
    "        if first_pass:\n",
    "            C1(transactions)\n",
    "            print(\"C1\")\n",
    "            output(C)\n",
    "            L1()\n",
    "            print(\"L1\")\n",
    "            output(L)\n",
    "            first_pass = False\n",
    "        else:\n",
    "            generate_C()\n",
    "            if not C:\n",
    "                break\n",
    "            print(f\"\\nC{index}\")\n",
    "            output(C)\n",
    "            prune()\n",
    "            if not C:\n",
    "                break\n",
    "            print(f\"\\nC{index} after prune\")\n",
    "            output(C)\n",
    "            scan_D(transactions)\n",
    "            print(f\"\\nC{index} after scanning dataset\")\n",
    "            output(C)\n",
    "            generate_L()\n",
    "            if not L:\n",
    "                break\n",
    "            print(f\"\\nL{index}\")\n",
    "            output(L)\n",
    "            index += 1\n",
    "\n",
    "if __name__ == \"__main__\":\n",
    "    main()"
   ]
  },
  {
   "cell_type": "code",
   "execution_count": null,
   "id": "71d1514c-20f3-4be1-8ad0-d6ed4f5b4d52",
   "metadata": {},
   "outputs": [],
   "source": []
  }
 ],
 "metadata": {
  "kernelspec": {
   "display_name": "Python 3 (ipykernel)",
   "language": "python",
   "name": "python3"
  },
  "language_info": {
   "codemirror_mode": {
    "name": "ipython",
    "version": 3
   },
   "file_extension": ".py",
   "mimetype": "text/x-python",
   "name": "python",
   "nbconvert_exporter": "python",
   "pygments_lexer": "ipython3",
   "version": "3.11.5"
  }
 },
 "nbformat": 4,
 "nbformat_minor": 5
}
